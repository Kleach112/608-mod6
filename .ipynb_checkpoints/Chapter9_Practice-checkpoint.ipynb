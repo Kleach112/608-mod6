{
 "cells": [
  {
   "cell_type": "markdown",
   "id": "9cf5602f-1f68-4ab0-bb75-c28f8230213d",
   "metadata": {},
   "source": [
    "9.3.1 Writing to a text file: introducing the with statement"
   ]
  },
  {
   "cell_type": "code",
   "execution_count": 1,
   "id": "55f131b9-2aec-4f8a-8bbe-99b0eec696cc",
   "metadata": {},
   "outputs": [],
   "source": [
    "with open('accounts.txt', mode='w') as accounts:\n",
    "    accounts.write('100 Jones 24.98\\n')\n",
    "    accounts.write('200 Doe 345.67\\n')\n",
    "    accounts.write('300 White 0.00\\n')\n",
    "    accounts.write('400 Stone -42.16\\n')\n",
    "    accounts.write('500 Rich 224.62\\n')"
   ]
  },
  {
   "cell_type": "markdown",
   "id": "6c2f92e4-7b42-4b8d-9325-fbc6bdd435f8",
   "metadata": {},
   "source": [
    "With acquires a resource, assignes its corresponding object to a variable (accounts in this example)\n",
    "\n",
    "The built-in open function opens the file accounts.txt and associates it with a file object. \n",
    "\n",
    "The mode argument specifices the file-open mode specifying whether to open for reading, writing or both. The w indicates writing, creating the file if it doesn't exist. If no path is specified, python creates it in the current folder. Opening a file for writing delets all the existing data in the file. \n",
    "\n",
    "In the with statement's suite, the variable accounts is used to interact with the file. write is called 5 times to write five records to the accounts file each as a separate line of text ending in a new line. At the end of the with statement's suite, the with statement implicitly calls the file object's close method to close the file."
   ]
  },
  {
   "cell_type": "code",
   "execution_count": 2,
   "id": "2afdd918-6e40-40a6-b2ed-909cc9ab0349",
   "metadata": {},
   "outputs": [],
   "source": [
    "with open('grades.txt', mode='w') as grades:\n",
    "    grades.write('1 Red A\\n')\n",
    "    grades.write('2 Green B\\n')\n",
    "    grades.write('3 White A\\n')"
   ]
  },
  {
   "cell_type": "markdown",
   "id": "289bff4f-489b-4385-96bd-c7ff6d5c910d",
   "metadata": {},
   "source": [
    "9.3.2 reading data from a text file"
   ]
  },
  {
   "cell_type": "code",
   "execution_count": 3,
   "id": "bd849235-6122-4f7d-a415-83186907e6a9",
   "metadata": {},
   "outputs": [
    {
     "name": "stdout",
     "output_type": "stream",
     "text": [
      "Account   Name         Balance\n",
      "100       Jones          24.98\n",
      "200       Doe           345.67\n",
      "300       White           0.00\n",
      "400       Stone         -42.16\n",
      "500       Rich          224.62\n"
     ]
    }
   ],
   "source": [
    "with open('accounts.txt', mode='r') as accounts:\n",
    "    print(f'{\"Account\":<10}{\"Name\":<10}{\"Balance\":>10}')\n",
    "    for record in accounts:\n",
    "        account, name, balance = record.split()\n",
    "        print(f'{account:<10}{name:<10}{balance:>10}')"
   ]
  },
  {
   "cell_type": "code",
   "execution_count": 4,
   "id": "0e5498e3-1c88-42c5-a252-a4dd00a3b952",
   "metadata": {},
   "outputs": [
    {
     "name": "stdout",
     "output_type": "stream",
     "text": [
      "ID  Name   Grade\n",
      "1   Red    A\n",
      "2   Green  B\n",
      "3   White  A\n"
     ]
    }
   ],
   "source": [
    "with open('grades.txt', mode='r') as grades:\n",
    "    print(f'{\"ID\":<4}{\"Name\":<7}{\"Grade\"}')\n",
    "    for record in grades:\n",
    "        student_id, name, grade = record.split()\n",
    "        print(f'{student_id:<4}{name:<7}{grade}')"
   ]
  },
  {
   "cell_type": "markdown",
   "id": "5a725f7c-8796-43eb-9913-8a26e650b1a3",
   "metadata": {},
   "source": [
    "9.4 updating text files"
   ]
  },
  {
   "cell_type": "code",
   "execution_count": 5,
   "id": "80749c30-a483-4d5a-8a9f-340cb4e016fc",
   "metadata": {},
   "outputs": [],
   "source": [
    "# updating accounts.txt\n",
    "\n",
    "accounts = open('accounts.txt', 'r')"
   ]
  },
  {
   "cell_type": "code",
   "execution_count": 6,
   "id": "fff98965-7fbc-457d-bd25-5229be7a9493",
   "metadata": {},
   "outputs": [],
   "source": [
    "temp_file = open('temp_file.txt', 'w')"
   ]
  },
  {
   "cell_type": "code",
   "execution_count": 7,
   "id": "be4889c3-4cb4-4c14-ba4e-47e50ae844cc",
   "metadata": {},
   "outputs": [],
   "source": [
    "with accounts, temp_file:\n",
    "    for record in accounts:\n",
    "        account, name, balance = record.split()\n",
    "        if account!= '300':\n",
    "            temp_file.write(record)\n",
    "        else:\n",
    "            new_record = ' '.join([account, 'Williams', balance])\n",
    "            temp_file.write(new_record + '\\n')"
   ]
  },
  {
   "cell_type": "code",
   "execution_count": 8,
   "id": "a90ae871-4934-46f0-ad81-801a3ba546c0",
   "metadata": {},
   "outputs": [],
   "source": [
    "import os"
   ]
  },
  {
   "cell_type": "code",
   "execution_count": 9,
   "id": "6c2fd10d-fb2b-4933-95d1-9db004995f6b",
   "metadata": {},
   "outputs": [],
   "source": [
    "os.remove('accounts.txt')"
   ]
  },
  {
   "cell_type": "code",
   "execution_count": 10,
   "id": "7e926353-cca2-41a9-a9de-2aef2513e833",
   "metadata": {},
   "outputs": [],
   "source": [
    "os.rename('temp_file.txt', 'accounts.txt')"
   ]
  },
  {
   "cell_type": "code",
   "execution_count": 11,
   "id": "c00893bb-979b-43fa-bebb-1a86f6b593e8",
   "metadata": {},
   "outputs": [],
   "source": [
    "accounts = open('accounts.txt', 'r')"
   ]
  },
  {
   "cell_type": "code",
   "execution_count": 12,
   "id": "241af08c-3dc7-47a3-a01f-9f57c75bbaf1",
   "metadata": {},
   "outputs": [],
   "source": [
    "temp_file = open('temp_file.txt', 'w')"
   ]
  },
  {
   "cell_type": "code",
   "execution_count": 13,
   "id": "afd0d32f-38e9-4527-b80d-0716732c1bc6",
   "metadata": {},
   "outputs": [],
   "source": [
    "with accounts, temp_file:\n",
    "    for record in accounts:\n",
    "        account, name, balance = record.split()\n",
    "        if name != 'Doe':\n",
    "            temp_file.write(record)\n",
    "        else:\n",
    "            new_record = ' '.join([account, 'Smith', balance])\n",
    "            temp_file.write(new_record + '\\n')"
   ]
  },
  {
   "cell_type": "code",
   "execution_count": 14,
   "id": "2aebf3e6-5f4c-4332-9e5b-1794ea2c6626",
   "metadata": {},
   "outputs": [],
   "source": [
    "os.remove('accounts.txt')"
   ]
  },
  {
   "cell_type": "code",
   "execution_count": 15,
   "id": "1f12b07d-93d8-4dda-a9b3-31d9653d7b78",
   "metadata": {},
   "outputs": [],
   "source": [
    "os.rename('temp_file.txt', 'accounts.txt')"
   ]
  },
  {
   "cell_type": "code",
   "execution_count": 16,
   "id": "41335813-387e-41ee-b7d9-8cc1d5663f78",
   "metadata": {},
   "outputs": [
    {
     "name": "stdout",
     "output_type": "stream",
     "text": [
      "Account   Name         Balance\n",
      "100       Jones          24.98\n",
      "200       Smith         345.67\n",
      "300       Williams        0.00\n",
      "400       Stone         -42.16\n",
      "500       Rich          224.62\n"
     ]
    }
   ],
   "source": [
    "with open('accounts.txt', mode='r') as accounts:\n",
    "    print(f'{\"Account\":<10}{\"Name\":<10}{\"Balance\":>10}')\n",
    "    for record in accounts:\n",
    "        account, name, balance = record.split()\n",
    "        print(f'{account:<10}{name:<10}{balance:>10}')"
   ]
  },
  {
   "cell_type": "markdown",
   "id": "ce62de86-e30a-47ad-b05e-6943c08c66ac",
   "metadata": {},
   "source": [
    "9.5 Serialization with JSON"
   ]
  },
  {
   "cell_type": "code",
   "execution_count": 17,
   "id": "7ba3a26e-ad9d-4b81-9233-79cf29acefb0",
   "metadata": {},
   "outputs": [],
   "source": [
    "accounts_dict = {'accounts': [\n",
    "    {'account': 100, 'name': 'Jones', 'balance': 24.98},\n",
    "    {'account': 200, 'name': 'Leach', 'balance': 345.67}]}"
   ]
  },
  {
   "cell_type": "code",
   "execution_count": 18,
   "id": "979a0e97-eb7d-47dd-8208-a54c91085dc1",
   "metadata": {},
   "outputs": [],
   "source": [
    "#searializing an object to json\n",
    "import json"
   ]
  },
  {
   "cell_type": "code",
   "execution_count": 19,
   "id": "8e5ed6ca-351f-4f68-9cb5-567f442facf0",
   "metadata": {},
   "outputs": [],
   "source": [
    "with open('accounts.json', 'w') as accounts:\n",
    "    json.dump(accounts_dict, accounts)"
   ]
  },
  {
   "cell_type": "code",
   "execution_count": 20,
   "id": "e6ce0e9a-a855-496f-8997-006a2d149fb5",
   "metadata": {},
   "outputs": [],
   "source": [
    "#deserializaing the json text\n",
    "with open('accounts.json', 'r') as accounts:\n",
    "    accounts_json = json.load(accounts)"
   ]
  },
  {
   "cell_type": "code",
   "execution_count": 21,
   "id": "d5b48fe9-ffe0-4ada-a2ac-8d933990c91a",
   "metadata": {},
   "outputs": [
    {
     "data": {
      "text/plain": [
       "{'accounts': [{'account': 100, 'name': 'Jones', 'balance': 24.98},\n",
       "  {'account': 200, 'name': 'Leach', 'balance': 345.67}]}"
      ]
     },
     "execution_count": 21,
     "metadata": {},
     "output_type": "execute_result"
    }
   ],
   "source": [
    "accounts_json"
   ]
  },
  {
   "cell_type": "code",
   "execution_count": 22,
   "id": "5f5005ac-47bd-4ca3-bc3f-b9ffd31ce6f1",
   "metadata": {},
   "outputs": [
    {
     "data": {
      "text/plain": [
       "[{'account': 100, 'name': 'Jones', 'balance': 24.98},\n",
       " {'account': 200, 'name': 'Leach', 'balance': 345.67}]"
      ]
     },
     "execution_count": 22,
     "metadata": {},
     "output_type": "execute_result"
    }
   ],
   "source": [
    "accounts_json['accounts']"
   ]
  },
  {
   "cell_type": "code",
   "execution_count": 23,
   "id": "7582c480-0ea0-4dd1-b99f-6f3682171804",
   "metadata": {},
   "outputs": [
    {
     "data": {
      "text/plain": [
       "{'account': 100, 'name': 'Jones', 'balance': 24.98}"
      ]
     },
     "execution_count": 23,
     "metadata": {},
     "output_type": "execute_result"
    }
   ],
   "source": [
    "accounts_json['accounts'][0]"
   ]
  },
  {
   "cell_type": "code",
   "execution_count": 24,
   "id": "6851520f-78c2-4e35-88f4-70d1480019c5",
   "metadata": {},
   "outputs": [
    {
     "data": {
      "text/plain": [
       "{'account': 200, 'name': 'Leach', 'balance': 345.67}"
      ]
     },
     "execution_count": 24,
     "metadata": {},
     "output_type": "execute_result"
    }
   ],
   "source": [
    "accounts_json['accounts'][1]"
   ]
  },
  {
   "cell_type": "code",
   "execution_count": 25,
   "id": "8e0bd238-c92d-4512-8e2a-7dfde6087130",
   "metadata": {},
   "outputs": [
    {
     "name": "stdout",
     "output_type": "stream",
     "text": [
      "{\n",
      "    \"accounts\": [\n",
      "        {\n",
      "            \"account\": 100,\n",
      "            \"name\": \"Jones\",\n",
      "            \"balance\": 24.98\n",
      "        },\n",
      "        {\n",
      "            \"account\": 200,\n",
      "            \"name\": \"Leach\",\n",
      "            \"balance\": 345.67\n",
      "        }\n",
      "    ]\n",
      "}\n"
     ]
    }
   ],
   "source": [
    "# displaying the JSON text: dumps returns a python string representation of an object in JSON format\n",
    "with open('accounts.json', 'r') as accounts: \n",
    "    print(json.dumps(json.load(accounts), indent=4))"
   ]
  },
  {
   "cell_type": "code",
   "execution_count": 26,
   "id": "bc8e0aa0-b751-40f0-a36b-cf2164da613e",
   "metadata": {},
   "outputs": [],
   "source": [
    "grades_dict = {'gradebook':\n",
    "               [{'student_id': 1, 'name': 'Kim', 'grade': 'A'},\n",
    "                {'student_id': 2, 'name': 'Leach', 'grade': 'B'},\n",
    "                {'student_id': 3, 'name': 'KimLeach', 'grade': 'A'}]}"
   ]
  },
  {
   "cell_type": "code",
   "execution_count": 27,
   "id": "9b648430-f309-4bf7-8c4f-e2f99839cadd",
   "metadata": {},
   "outputs": [],
   "source": [
    "with open('grades.json', 'w') as grades:\n",
    "    json.dump(grades_dict, grades)"
   ]
  },
  {
   "cell_type": "code",
   "execution_count": 28,
   "id": "6100ebc3-7656-4f6a-8934-1c84802f4b55",
   "metadata": {},
   "outputs": [
    {
     "name": "stdout",
     "output_type": "stream",
     "text": [
      "{\n",
      "    \"gradebook\": [\n",
      "        {\n",
      "            \"student_id\": 1,\n",
      "            \"name\": \"Kim\",\n",
      "            \"grade\": \"A\"\n",
      "        },\n",
      "        {\n",
      "            \"student_id\": 2,\n",
      "            \"name\": \"Leach\",\n",
      "            \"grade\": \"B\"\n",
      "        },\n",
      "        {\n",
      "            \"student_id\": 3,\n",
      "            \"name\": \"KimLeach\",\n",
      "            \"grade\": \"A\"\n",
      "        }\n",
      "    ]\n",
      "}\n"
     ]
    }
   ],
   "source": [
    "with open('grades.json', 'r') as grades:\n",
    "    print(json.dumps(json.load(grades), indent=4))"
   ]
  },
  {
   "cell_type": "markdown",
   "id": "22e28d3a-19d3-4c1b-9778-c57e8959b0d3",
   "metadata": {},
   "source": [
    "9.6 pickle serialization and deserialization: pickle module can serioualize objects into a python-specific data format\n",
    "    * pickle file can be hacked\n",
    "    * cannot be used to communicate with apps written in other programming languages, only Python\n",
    "    * not recommended for use, but may be encountered in legacy code"
   ]
  },
  {
   "cell_type": "markdown",
   "id": "58e99bc7-ff0f-443e-8bf2-5913a81f3724",
   "metadata": {},
   "source": [
    "9.7 additional notes regarding files\n",
    "    * 'r' = open a text file for reading. Default if a fil-open mode is not specified\n",
    "    * 'w' = open a text file for writing. Existing file contents are deleted.\n",
    "    * 'a' = open a text file for appending at the end, creating the file if it does not exist. New data is written at the end of the file. \n",
    "    * 'r+' = open a text file for reading and writing.\n",
    "    * 'w+' = open a text file for reading and writing. Existing file contents are deleted.\n",
    "    * 'a+' = open a text file reading and appending at the end. New data is written at the end of the file. If the file does not exist, it is created.\n",
    "    \n",
    "Other file object methods\n",
    "    * the read method returns a string containing the number of characters specified by the method's integer argument\n",
    "    * the readline mehtod returns one line of text as a string, including the newline character if there is one. This method returns an ampty string when it encounters the end of the file. \n",
    "    * the writelines method receives a list of strings and writes its contents to a file."
   ]
  },
  {
   "cell_type": "markdown",
   "id": "0c93cebf-2544-4678-ac8f-ca5ecff7182d",
   "metadata": {},
   "source": [
    "9.8 Handling exceptions: various types of exceptions can occur when you work with files."
   ]
  },
  {
   "cell_type": "markdown",
   "id": "b797202c-c019-4590-b4cf-e28e2fc429c0",
   "metadata": {},
   "source": [
    "9.8.1 division by zero and invalid input"
   ]
  },
  {
   "cell_type": "code",
   "execution_count": 29,
   "id": "18eb22a9-5674-45b5-b990-6fa1eeec53f1",
   "metadata": {},
   "outputs": [
    {
     "ename": "ZeroDivisionError",
     "evalue": "division by zero",
     "output_type": "error",
     "traceback": [
      "\u001b[1;31m---------------------------------------------------------------------------\u001b[0m",
      "\u001b[1;31mZeroDivisionError\u001b[0m                         Traceback (most recent call last)",
      "Input \u001b[1;32mIn [29]\u001b[0m, in \u001b[0;36m<cell line: 2>\u001b[1;34m()\u001b[0m\n\u001b[0;32m      1\u001b[0m \u001b[38;5;66;03m#division by zero\u001b[39;00m\n\u001b[1;32m----> 2\u001b[0m \u001b[38;5;241;43m10\u001b[39;49m\u001b[43m \u001b[49m\u001b[38;5;241;43m/\u001b[39;49m\u001b[43m \u001b[49m\u001b[38;5;241;43m0\u001b[39;49m\n",
      "\u001b[1;31mZeroDivisionError\u001b[0m: division by zero"
     ]
    }
   ],
   "source": [
    "#division by zero\n",
    "10 / 0"
   ]
  },
  {
   "cell_type": "code",
   "execution_count": 30,
   "id": "bfdef08e-f694-44b6-8655-be6c44c63d1c",
   "metadata": {},
   "outputs": [
    {
     "name": "stdin",
     "output_type": "stream",
     "text": [
      "Enter an integer:  hello\n"
     ]
    },
    {
     "ename": "ValueError",
     "evalue": "invalid literal for int() with base 10: 'hello'",
     "output_type": "error",
     "traceback": [
      "\u001b[1;31m---------------------------------------------------------------------------\u001b[0m",
      "\u001b[1;31mValueError\u001b[0m                                Traceback (most recent call last)",
      "Input \u001b[1;32mIn [30]\u001b[0m, in \u001b[0;36m<cell line: 2>\u001b[1;34m()\u001b[0m\n\u001b[0;32m      1\u001b[0m \u001b[38;5;66;03m#invalid input\u001b[39;00m\n\u001b[1;32m----> 2\u001b[0m value \u001b[38;5;241m=\u001b[39m \u001b[38;5;28;43mint\u001b[39;49m\u001b[43m(\u001b[49m\u001b[38;5;28;43minput\u001b[39;49m\u001b[43m(\u001b[49m\u001b[38;5;124;43m'\u001b[39;49m\u001b[38;5;124;43mEnter an integer: \u001b[39;49m\u001b[38;5;124;43m'\u001b[39;49m\u001b[43m)\u001b[49m\u001b[43m)\u001b[49m\n",
      "\u001b[1;31mValueError\u001b[0m: invalid literal for int() with base 10: 'hello'"
     ]
    }
   ],
   "source": [
    "#invalid input\n",
    "value = int(input('Enter an integer: '))"
   ]
  },
  {
   "cell_type": "markdown",
   "id": "29c5d0fc-fd24-4ba3-8b75-1725ad35d397",
   "metadata": {},
   "source": [
    "9.8.2 try statements"
   ]
  },
  {
   "cell_type": "code",
   "execution_count": 31,
   "id": "fa38c307-7163-4a49-88cf-33d78c67c17d",
   "metadata": {},
   "outputs": [
    {
     "name": "stdin",
     "output_type": "stream",
     "text": [
      "Enter numerator:  100\n",
      "Enter denominator:  0\n"
     ]
    },
    {
     "name": "stdout",
     "output_type": "stream",
     "text": [
      "Attempted to divide by zero\n",
      "\n"
     ]
    },
    {
     "name": "stdin",
     "output_type": "stream",
     "text": [
      "Enter numerator:  100\n",
      "Enter denominator:  kim\n"
     ]
    },
    {
     "name": "stdout",
     "output_type": "stream",
     "text": [
      "You must enter two integers\n",
      "\n"
     ]
    },
    {
     "name": "stdin",
     "output_type": "stream",
     "text": [
      "Enter numerator:  100\n",
      "Enter denominator:  7\n"
     ]
    },
    {
     "name": "stdout",
     "output_type": "stream",
     "text": [
      "100.000 / 7.000 = 14.286\n"
     ]
    }
   ],
   "source": [
    "# dividebyzero.py\n",
    "\"\"\"Simple exception handling example.\"\"\"\n",
    "\n",
    "while True:\n",
    "    # attempt to convert and divide values\n",
    "    try:\n",
    "        number1 = int(input('Enter numerator: '))\n",
    "        number2 = int(input('Enter denominator: '))\n",
    "        result = number1 / number2\n",
    "    except ValueError: # tried to convert non-numeric value to int\n",
    "        print('You must enter two integers\\n')\n",
    "    except ZeroDivisionError: # denominator was 0\n",
    "        print('Attempted to divide by zero\\n')\n",
    "    else: # executes only if no exceptions occur\n",
    "        print(f'{number1:.3f} / {number2:.3f} = {result:.3f}')\n",
    "        break # terminate the loop"
   ]
  },
  {
   "cell_type": "markdown",
   "id": "b521c398-72d3-4dfd-82ac-66288b77e26b",
   "metadata": {},
   "source": [
    "try clause begins with keyword try, followed by a (:) and a sutie of statements that might raise exceptions\n",
    "\n",
    "except clauses specify the type of exception it handles. In this case, each exception handler just displays a message indicating the problem that occurred\n",
    "\n",
    "else clauses specify code that should execute only if the code in the try suite did not raise exceptions\n",
    "\n",
    "the point in the program at whch an exception occurs is referred to as the raise point"
   ]
  },
  {
   "cell_type": "code",
   "execution_count": 39,
   "id": "f328dfbc-2c07-4620-91e5-48b342c6a86c",
   "metadata": {},
   "outputs": [],
   "source": [
    "def try_it(value):\n",
    "    try:\n",
    "        x = int(value)\n",
    "    except ValueError:\n",
    "        print(f' {value} could not be converted to an integer')\n",
    "    else:\n",
    "        print(f' int({value}) is {x}')"
   ]
  },
  {
   "cell_type": "code",
   "execution_count": 36,
   "id": "13f98f52-1c8f-4117-afee-7774936d6cf1",
   "metadata": {},
   "outputs": [
    {
     "name": "stdout",
     "output_type": "stream",
     "text": [
      " int(10.7) is 10\n"
     ]
    }
   ],
   "source": [
    "try_it(10.7)"
   ]
  },
  {
   "cell_type": "code",
   "execution_count": 40,
   "id": "6dc920fa-d149-4fcc-bc26-de46984fcc87",
   "metadata": {},
   "outputs": [
    {
     "name": "stdout",
     "output_type": "stream",
     "text": [
      " KimLeach could not be converted to an integer\n"
     ]
    }
   ],
   "source": [
    "try_it('KimLeach')"
   ]
  },
  {
   "cell_type": "markdown",
   "id": "870f6113-80f5-4189-af28-fb6b20bb6008",
   "metadata": {},
   "source": [
    "9.8.3 Catching multiple exceptions in one except clause: if several except suites are identical, you can catch those exception types bu specifying them as a tuple in a single except handler, as in:\n",
    "    except (type1, type2, ...) as variable_name: (the as clause is optional)\n",
    "    \n",
    "9.8.4 what exceptions does a function or method raise? exceptions may surface via statements in a try suite, via functions or methods called directly or indirectly from a try suite, or via the python interpreter as it executes the code. \n",
    "\n",
    "9.8.5 what code should be placed in a try suite? place in a try suite a logical section of a program in which several statements can raise exceptions, rather than wrapping a separate try statement around every statement that raises an exception. However, for proper exception-handling granularity, each try statement should enclose a section of code small enoough that the specific context is known and the except handlers can process the exception properly. If many statements in a try suite raise the same exception types, mulitple try statements may be required to determine each exception's context. "
   ]
  },
  {
   "cell_type": "markdown",
   "id": "3b2856c1-77cd-4a5a-83ef-43cd7510c5dd",
   "metadata": {},
   "source": [
    "9.9 finally clause: the finally clause is guaranteed to execute, regardless of whether its try suite executes successfully or an exception occurs"
   ]
  },
  {
   "cell_type": "code",
   "execution_count": 42,
   "id": "308aee0b-60d0-4b74-9dc8-20e4f5c0ceb9",
   "metadata": {},
   "outputs": [
    {
     "name": "stdout",
     "output_type": "stream",
     "text": [
      "try suite with no exceptions raised\n",
      "else executes because no exceptions in the try suite\n",
      "finally always executes\n"
     ]
    }
   ],
   "source": [
    "try:\n",
    "    print('try suite with no exceptions raised')\n",
    "except:\n",
    "    print('this will not execute')\n",
    "else:\n",
    "    print('else executes because no exceptions in the try suite')\n",
    "finally:\n",
    "    print('finally always executes')"
   ]
  },
  {
   "cell_type": "code",
   "execution_count": 43,
   "id": "28bf7e25-add7-4b07-9f32-6d8a88be4e62",
   "metadata": {},
   "outputs": [
    {
     "name": "stdout",
     "output_type": "stream",
     "text": [
      "try suite that raises an exception\n",
      "a ValueError occurred\n",
      "finally always executes\n"
     ]
    }
   ],
   "source": [
    "try:\n",
    "    print('try suite that raises an exception')\n",
    "    int('hello')\n",
    "    print('this will not execute')\n",
    "except ValueError:\n",
    "    print('a ValueError occurred')\n",
    "else:\n",
    "    print('else will not execute because an exception occurred')\n",
    "finally:\n",
    "    print('finally always executes')"
   ]
  },
  {
   "cell_type": "code",
   "execution_count": 44,
   "id": "6ab38377-0cd2-427f-b2ef-b276dc58a88d",
   "metadata": {},
   "outputs": [
    {
     "ename": "FileNotFoundError",
     "evalue": "[Errno 2] No such file or directory: 'gradez.txt'",
     "output_type": "error",
     "traceback": [
      "\u001b[1;31m---------------------------------------------------------------------------\u001b[0m",
      "\u001b[1;31mFileNotFoundError\u001b[0m                         Traceback (most recent call last)",
      "Input \u001b[1;32mIn [44]\u001b[0m, in \u001b[0;36m<cell line: 1>\u001b[1;34m()\u001b[0m\n\u001b[1;32m----> 1\u001b[0m \u001b[38;5;28;43mopen\u001b[39;49m\u001b[43m(\u001b[49m\u001b[38;5;124;43m'\u001b[39;49m\u001b[38;5;124;43mgradez.txt\u001b[39;49m\u001b[38;5;124;43m'\u001b[39;49m\u001b[43m)\u001b[49m\n",
      "\u001b[1;31mFileNotFoundError\u001b[0m: [Errno 2] No such file or directory: 'gradez.txt'"
     ]
    }
   ],
   "source": [
    "open('gradez.txt')"
   ]
  },
  {
   "cell_type": "code",
   "execution_count": 45,
   "id": "e620976c-beed-4d11-aa06-08e31b6d941e",
   "metadata": {},
   "outputs": [
    {
     "name": "stdout",
     "output_type": "stream",
     "text": [
      "The file name you specified does not exist\n"
     ]
    }
   ],
   "source": [
    "try:\n",
    "    with open('gradez.txt', 'r') as accounts:\n",
    "        print(f'{\"ID\":<3}{\"Name\":<7}{\"Grade\"}')\n",
    "        for record in accounts:\n",
    "            student_id, name, grade = record.split()\n",
    "            print(f'{student_id:<3}{name:<7}{grade}')\n",
    "except FileNotFoundError:\n",
    "    print('The file name you specified does not exist')"
   ]
  },
  {
   "cell_type": "code",
   "execution_count": 47,
   "id": "8b353848-c516-49e9-8517-8b9af5b69c7f",
   "metadata": {},
   "outputs": [],
   "source": [
    "def try_it(value):\n",
    "    try:\n",
    "        x = int(value)\n",
    "    except ValueError:\n",
    "        print(f'{value} could not be converted to an integer')\n",
    "    else:\n",
    "        print(f'int({value}) is {x}')\n",
    "    finally:\n",
    "        print('finally executed')"
   ]
  },
  {
   "cell_type": "code",
   "execution_count": 48,
   "id": "590264e0-d837-42d3-97e5-f633d5613771",
   "metadata": {},
   "outputs": [
    {
     "name": "stdout",
     "output_type": "stream",
     "text": [
      "int(10.7) is 10\n",
      "finally executed\n"
     ]
    }
   ],
   "source": [
    "try_it(10.7)"
   ]
  },
  {
   "cell_type": "code",
   "execution_count": 49,
   "id": "73f6eb7f-93ef-4e02-a3e5-31a1ca2c3429",
   "metadata": {},
   "outputs": [
    {
     "name": "stdout",
     "output_type": "stream",
     "text": [
      "KimLeach could not be converted to an integer\n",
      "finally executed\n"
     ]
    }
   ],
   "source": [
    "try_it('KimLeach')"
   ]
  },
  {
   "cell_type": "markdown",
   "id": "2887ac8f-0298-4eea-9eb8-f2275db52618",
   "metadata": {},
   "source": [
    "9.10 explicilty raising an exception: raise statement is raise ExceptionClassName and creates an object of the specified exception class."
   ]
  },
  {
   "cell_type": "code",
   "execution_count": null,
   "id": "0b8ae562-62ba-4d5a-9646-cf800564761c",
   "metadata": {},
   "outputs": [],
   "source": [
    "9.11 optional stack unwinding and tracebacks"
   ]
  },
  {
   "cell_type": "code",
   "execution_count": 50,
   "id": "77ff1279-dff6-468c-bc67-f92d2d7d08cc",
   "metadata": {},
   "outputs": [],
   "source": [
    "def function1():\n",
    "    function2()"
   ]
  },
  {
   "cell_type": "code",
   "execution_count": 51,
   "id": "e1480b9a-3d51-47e0-815a-c093dd62886f",
   "metadata": {},
   "outputs": [],
   "source": [
    "def function2():\n",
    "    raise Exception('An exception occurred')"
   ]
  },
  {
   "cell_type": "code",
   "execution_count": 52,
   "id": "75972a95-0961-45f1-9ba0-ed73eeed9cdd",
   "metadata": {},
   "outputs": [
    {
     "ename": "Exception",
     "evalue": "An exception occurred",
     "output_type": "error",
     "traceback": [
      "\u001b[1;31m---------------------------------------------------------------------------\u001b[0m",
      "\u001b[1;31mException\u001b[0m                                 Traceback (most recent call last)",
      "Input \u001b[1;32mIn [52]\u001b[0m, in \u001b[0;36m<cell line: 1>\u001b[1;34m()\u001b[0m\n\u001b[1;32m----> 1\u001b[0m \u001b[43mfunction1\u001b[49m\u001b[43m(\u001b[49m\u001b[43m)\u001b[49m\n",
      "Input \u001b[1;32mIn [50]\u001b[0m, in \u001b[0;36mfunction1\u001b[1;34m()\u001b[0m\n\u001b[0;32m      1\u001b[0m \u001b[38;5;28;01mdef\u001b[39;00m \u001b[38;5;21mfunction1\u001b[39m():\n\u001b[1;32m----> 2\u001b[0m     \u001b[43mfunction2\u001b[49m\u001b[43m(\u001b[49m\u001b[43m)\u001b[49m\n",
      "Input \u001b[1;32mIn [51]\u001b[0m, in \u001b[0;36mfunction2\u001b[1;34m()\u001b[0m\n\u001b[0;32m      1\u001b[0m \u001b[38;5;28;01mdef\u001b[39;00m \u001b[38;5;21mfunction2\u001b[39m():\n\u001b[1;32m----> 2\u001b[0m     \u001b[38;5;28;01mraise\u001b[39;00m \u001b[38;5;167;01mException\u001b[39;00m(\u001b[38;5;124m'\u001b[39m\u001b[38;5;124mAn exception occurred\u001b[39m\u001b[38;5;124m'\u001b[39m)\n",
      "\u001b[1;31mException\u001b[0m: An exception occurred"
     ]
    }
   ],
   "source": [
    "function1()"
   ]
  },
  {
   "cell_type": "markdown",
   "id": "0fc5e650-463c-4e91-b28f-dce8f2c4ab69",
   "metadata": {},
   "source": [
    "9.12 Intro to Data Science: Working with CSV files"
   ]
  },
  {
   "cell_type": "code",
   "execution_count": 53,
   "id": "84aa34e2-9523-41a6-80df-a2111dfaa038",
   "metadata": {},
   "outputs": [],
   "source": [
    "#writing to a CSV file\n",
    "\n",
    "import csv"
   ]
  },
  {
   "cell_type": "code",
   "execution_count": 55,
   "id": "87f167ec-7fd4-4ef3-a909-866e5ad2ff38",
   "metadata": {},
   "outputs": [],
   "source": [
    "with open('accounts.csv', mode='w', newline='') as accounts:\n",
    "    writer = csv.writer(accounts)\n",
    "    writer.writerow([100, 'Jones', 24.98])\n",
    "    writer.writerow([200, 'Kim', 345.67])\n",
    "    writer.writerow([300, 'Leach', 0.00])\n",
    "    writer.writerow([400, 'Stone', -42.16])\n",
    "    writer.writerow([500, 'Rich', 224.62])"
   ]
  },
  {
   "cell_type": "code",
   "execution_count": 56,
   "id": "407124c4-67bb-404f-97a3-0293becf3955",
   "metadata": {},
   "outputs": [
    {
     "name": "stdout",
     "output_type": "stream",
     "text": [
      "Account   Name         Balance\n",
      "100       Jones          24.98\n",
      "200       Kim           345.67\n",
      "300       Leach            0.0\n",
      "400       Stone         -42.16\n",
      "500       Rich          224.62\n"
     ]
    }
   ],
   "source": [
    "#reading form a csv file\n",
    "\n",
    "with open('accounts.csv', 'r', newline='') as accounts:\n",
    "    print(f'{\"Account\":<10}{\"Name\":<10}{\"Balance\":>10}')\n",
    "    reader = csv.reader(accounts)\n",
    "    for record in reader:\n",
    "        account, name, balance = record\n",
    "        print(f'{account:<10}{name:<10}{balance:>10}')"
   ]
  },
  {
   "cell_type": "code",
   "execution_count": 57,
   "id": "4760b290-e91c-4849-90e5-b8cf11e3b5aa",
   "metadata": {},
   "outputs": [],
   "source": [
    "with open('grades.csv', mode='w', newline='') as grades:\n",
    "    writer = csv.writer(grades)\n",
    "    writer.writerow([1, 'Kim', 'A'])\n",
    "    writer.writerow([2, 'Leach', 'B'])\n",
    "    writer.writerow([3, 'Valerie', 'A'])"
   ]
  },
  {
   "cell_type": "code",
   "execution_count": 59,
   "id": "a06c1af7-5ddf-4e78-992a-85ec87383ab2",
   "metadata": {},
   "outputs": [
    {
     "name": "stdout",
     "output_type": "stream",
     "text": [
      "ID  Name   Grade\n",
      "1   Kim       A\n",
      "2   Leach     B\n",
      "3   Valerie   A\n"
     ]
    }
   ],
   "source": [
    "with open('grades.csv', 'r', newline='') as grades:\n",
    "    print(f'{\"ID\":<4}{\"Name\":<7}{\"Grade\"}')\n",
    "    reader = csv.reader(grades)\n",
    "    for record in reader:\n",
    "        student_id, name, grade = record\n",
    "        print(f'{student_id:<4}{name:<10}{grade}')"
   ]
  },
  {
   "cell_type": "code",
   "execution_count": 60,
   "id": "e64e6e08-10a8-4238-899c-279bc13d8894",
   "metadata": {},
   "outputs": [],
   "source": [
    "#working with locally stored csv files\n",
    "\n",
    "import pandas as pd"
   ]
  },
  {
   "cell_type": "code",
   "execution_count": 61,
   "id": "85eae3ff-03dc-4351-85ad-5582fef50219",
   "metadata": {},
   "outputs": [],
   "source": [
    "df = pd.read_csv('accounts.csv',\n",
    "                 names=['account', 'name', 'balance'])"
   ]
  },
  {
   "cell_type": "code",
   "execution_count": 62,
   "id": "e804ce3b-475a-442a-bd44-9566e7593935",
   "metadata": {},
   "outputs": [
    {
     "data": {
      "text/html": [
       "<div>\n",
       "<style scoped>\n",
       "    .dataframe tbody tr th:only-of-type {\n",
       "        vertical-align: middle;\n",
       "    }\n",
       "\n",
       "    .dataframe tbody tr th {\n",
       "        vertical-align: top;\n",
       "    }\n",
       "\n",
       "    .dataframe thead th {\n",
       "        text-align: right;\n",
       "    }\n",
       "</style>\n",
       "<table border=\"1\" class=\"dataframe\">\n",
       "  <thead>\n",
       "    <tr style=\"text-align: right;\">\n",
       "      <th></th>\n",
       "      <th>account</th>\n",
       "      <th>name</th>\n",
       "      <th>balance</th>\n",
       "    </tr>\n",
       "  </thead>\n",
       "  <tbody>\n",
       "    <tr>\n",
       "      <th>0</th>\n",
       "      <td>100</td>\n",
       "      <td>Jones</td>\n",
       "      <td>24.98</td>\n",
       "    </tr>\n",
       "    <tr>\n",
       "      <th>1</th>\n",
       "      <td>200</td>\n",
       "      <td>Kim</td>\n",
       "      <td>345.67</td>\n",
       "    </tr>\n",
       "    <tr>\n",
       "      <th>2</th>\n",
       "      <td>300</td>\n",
       "      <td>Leach</td>\n",
       "      <td>0.00</td>\n",
       "    </tr>\n",
       "    <tr>\n",
       "      <th>3</th>\n",
       "      <td>400</td>\n",
       "      <td>Stone</td>\n",
       "      <td>-42.16</td>\n",
       "    </tr>\n",
       "    <tr>\n",
       "      <th>4</th>\n",
       "      <td>500</td>\n",
       "      <td>Rich</td>\n",
       "      <td>224.62</td>\n",
       "    </tr>\n",
       "  </tbody>\n",
       "</table>\n",
       "</div>"
      ],
      "text/plain": [
       "   account   name  balance\n",
       "0      100  Jones    24.98\n",
       "1      200    Kim   345.67\n",
       "2      300  Leach     0.00\n",
       "3      400  Stone   -42.16\n",
       "4      500   Rich   224.62"
      ]
     },
     "execution_count": 62,
     "metadata": {},
     "output_type": "execute_result"
    }
   ],
   "source": [
    "df"
   ]
  },
  {
   "cell_type": "code",
   "execution_count": 63,
   "id": "28f0ece7-11ab-44fb-adbb-d410ebd868dd",
   "metadata": {},
   "outputs": [],
   "source": [
    "#to save a dataframe to a file using CSV format, call dataframe method to_csv\n",
    "df.to_csv('accounts_from_dataframe.csv', index=False)"
   ]
  },
  {
   "cell_type": "markdown",
   "id": "f6c8d34e-a86b-4c22-8cc6-6d1013aa32be",
   "metadata": {},
   "source": [
    "9.12.3 reading the Titanic disaster dataset"
   ]
  },
  {
   "cell_type": "code",
   "execution_count": 64,
   "id": "1d9af207-9ee9-4ebd-bdae-6fbbf4439081",
   "metadata": {},
   "outputs": [],
   "source": [
    "#Kim Leach\n",
    "titanic = pd.read_csv('https://vincentarelbundock.github.io/' +\n",
    "                      'Rdatasets/csv/carData/TitanicSurvival.csv')"
   ]
  },
  {
   "cell_type": "code",
   "execution_count": 65,
   "id": "52154397-7720-4614-8cae-a6f3ac8eac28",
   "metadata": {},
   "outputs": [
    {
     "data": {
      "text/html": [
       "<div>\n",
       "<style scoped>\n",
       "    .dataframe tbody tr th:only-of-type {\n",
       "        vertical-align: middle;\n",
       "    }\n",
       "\n",
       "    .dataframe tbody tr th {\n",
       "        vertical-align: top;\n",
       "    }\n",
       "\n",
       "    .dataframe thead th {\n",
       "        text-align: right;\n",
       "    }\n",
       "</style>\n",
       "<table border=\"1\" class=\"dataframe\">\n",
       "  <thead>\n",
       "    <tr style=\"text-align: right;\">\n",
       "      <th></th>\n",
       "      <th>Unnamed: 0</th>\n",
       "      <th>survived</th>\n",
       "      <th>sex</th>\n",
       "      <th>age</th>\n",
       "      <th>passengerClass</th>\n",
       "    </tr>\n",
       "  </thead>\n",
       "  <tbody>\n",
       "    <tr>\n",
       "      <th>0</th>\n",
       "      <td>Allen, Miss. Elisabeth Walton</td>\n",
       "      <td>yes</td>\n",
       "      <td>female</td>\n",
       "      <td>29.0000</td>\n",
       "      <td>1st</td>\n",
       "    </tr>\n",
       "    <tr>\n",
       "      <th>1</th>\n",
       "      <td>Allison, Master. Hudson Trevor</td>\n",
       "      <td>yes</td>\n",
       "      <td>male</td>\n",
       "      <td>0.9167</td>\n",
       "      <td>1st</td>\n",
       "    </tr>\n",
       "    <tr>\n",
       "      <th>2</th>\n",
       "      <td>Allison, Miss. Helen Loraine</td>\n",
       "      <td>no</td>\n",
       "      <td>female</td>\n",
       "      <td>2.0000</td>\n",
       "      <td>1st</td>\n",
       "    </tr>\n",
       "    <tr>\n",
       "      <th>3</th>\n",
       "      <td>Allison, Mr. Hudson Joshua Crei</td>\n",
       "      <td>no</td>\n",
       "      <td>male</td>\n",
       "      <td>30.0000</td>\n",
       "      <td>1st</td>\n",
       "    </tr>\n",
       "    <tr>\n",
       "      <th>4</th>\n",
       "      <td>Allison, Mrs. Hudson J C (Bessi</td>\n",
       "      <td>no</td>\n",
       "      <td>female</td>\n",
       "      <td>25.0000</td>\n",
       "      <td>1st</td>\n",
       "    </tr>\n",
       "    <tr>\n",
       "      <th>...</th>\n",
       "      <td>...</td>\n",
       "      <td>...</td>\n",
       "      <td>...</td>\n",
       "      <td>...</td>\n",
       "      <td>...</td>\n",
       "    </tr>\n",
       "    <tr>\n",
       "      <th>1304</th>\n",
       "      <td>Zabour, Miss. Hileni</td>\n",
       "      <td>no</td>\n",
       "      <td>female</td>\n",
       "      <td>14.5000</td>\n",
       "      <td>3rd</td>\n",
       "    </tr>\n",
       "    <tr>\n",
       "      <th>1305</th>\n",
       "      <td>Zabour, Miss. Thamine</td>\n",
       "      <td>no</td>\n",
       "      <td>female</td>\n",
       "      <td>NaN</td>\n",
       "      <td>3rd</td>\n",
       "    </tr>\n",
       "    <tr>\n",
       "      <th>1306</th>\n",
       "      <td>Zakarian, Mr. Mapriededer</td>\n",
       "      <td>no</td>\n",
       "      <td>male</td>\n",
       "      <td>26.5000</td>\n",
       "      <td>3rd</td>\n",
       "    </tr>\n",
       "    <tr>\n",
       "      <th>1307</th>\n",
       "      <td>Zakarian, Mr. Ortin</td>\n",
       "      <td>no</td>\n",
       "      <td>male</td>\n",
       "      <td>27.0000</td>\n",
       "      <td>3rd</td>\n",
       "    </tr>\n",
       "    <tr>\n",
       "      <th>1308</th>\n",
       "      <td>Zimmerman, Mr. Leo</td>\n",
       "      <td>no</td>\n",
       "      <td>male</td>\n",
       "      <td>29.0000</td>\n",
       "      <td>3rd</td>\n",
       "    </tr>\n",
       "  </tbody>\n",
       "</table>\n",
       "<p>1309 rows × 5 columns</p>\n",
       "</div>"
      ],
      "text/plain": [
       "                           Unnamed: 0 survived     sex      age passengerClass\n",
       "0       Allen, Miss. Elisabeth Walton      yes  female  29.0000            1st\n",
       "1      Allison, Master. Hudson Trevor      yes    male   0.9167            1st\n",
       "2        Allison, Miss. Helen Loraine       no  female   2.0000            1st\n",
       "3     Allison, Mr. Hudson Joshua Crei       no    male  30.0000            1st\n",
       "4     Allison, Mrs. Hudson J C (Bessi       no  female  25.0000            1st\n",
       "...                               ...      ...     ...      ...            ...\n",
       "1304             Zabour, Miss. Hileni       no  female  14.5000            3rd\n",
       "1305            Zabour, Miss. Thamine       no  female      NaN            3rd\n",
       "1306        Zakarian, Mr. Mapriededer       no    male  26.5000            3rd\n",
       "1307              Zakarian, Mr. Ortin       no    male  27.0000            3rd\n",
       "1308               Zimmerman, Mr. Leo       no    male  29.0000            3rd\n",
       "\n",
       "[1309 rows x 5 columns]"
      ]
     },
     "execution_count": 65,
     "metadata": {},
     "output_type": "execute_result"
    }
   ],
   "source": [
    "titanic"
   ]
  },
  {
   "cell_type": "code",
   "execution_count": 68,
   "id": "f28c0712-5891-4b4e-93e6-3debc39c55ae",
   "metadata": {},
   "outputs": [],
   "source": [
    "pd.set_option('display.precision', 2)# format for floating-point values"
   ]
  },
  {
   "cell_type": "code",
   "execution_count": 69,
   "id": "7de0ec4a-3fc0-4b27-8a5c-3711194d48bb",
   "metadata": {},
   "outputs": [
    {
     "data": {
      "text/html": [
       "<div>\n",
       "<style scoped>\n",
       "    .dataframe tbody tr th:only-of-type {\n",
       "        vertical-align: middle;\n",
       "    }\n",
       "\n",
       "    .dataframe tbody tr th {\n",
       "        vertical-align: top;\n",
       "    }\n",
       "\n",
       "    .dataframe thead th {\n",
       "        text-align: right;\n",
       "    }\n",
       "</style>\n",
       "<table border=\"1\" class=\"dataframe\">\n",
       "  <thead>\n",
       "    <tr style=\"text-align: right;\">\n",
       "      <th></th>\n",
       "      <th>Unnamed: 0</th>\n",
       "      <th>survived</th>\n",
       "      <th>sex</th>\n",
       "      <th>age</th>\n",
       "      <th>passengerClass</th>\n",
       "    </tr>\n",
       "  </thead>\n",
       "  <tbody>\n",
       "    <tr>\n",
       "      <th>0</th>\n",
       "      <td>Allen, Miss. Elisabeth Walton</td>\n",
       "      <td>yes</td>\n",
       "      <td>female</td>\n",
       "      <td>29.00</td>\n",
       "      <td>1st</td>\n",
       "    </tr>\n",
       "    <tr>\n",
       "      <th>1</th>\n",
       "      <td>Allison, Master. Hudson Trevor</td>\n",
       "      <td>yes</td>\n",
       "      <td>male</td>\n",
       "      <td>0.92</td>\n",
       "      <td>1st</td>\n",
       "    </tr>\n",
       "    <tr>\n",
       "      <th>2</th>\n",
       "      <td>Allison, Miss. Helen Loraine</td>\n",
       "      <td>no</td>\n",
       "      <td>female</td>\n",
       "      <td>2.00</td>\n",
       "      <td>1st</td>\n",
       "    </tr>\n",
       "    <tr>\n",
       "      <th>3</th>\n",
       "      <td>Allison, Mr. Hudson Joshua Crei</td>\n",
       "      <td>no</td>\n",
       "      <td>male</td>\n",
       "      <td>30.00</td>\n",
       "      <td>1st</td>\n",
       "    </tr>\n",
       "    <tr>\n",
       "      <th>4</th>\n",
       "      <td>Allison, Mrs. Hudson J C (Bessi</td>\n",
       "      <td>no</td>\n",
       "      <td>female</td>\n",
       "      <td>25.00</td>\n",
       "      <td>1st</td>\n",
       "    </tr>\n",
       "  </tbody>\n",
       "</table>\n",
       "</div>"
      ],
      "text/plain": [
       "                        Unnamed: 0 survived     sex    age passengerClass\n",
       "0    Allen, Miss. Elisabeth Walton      yes  female  29.00            1st\n",
       "1   Allison, Master. Hudson Trevor      yes    male   0.92            1st\n",
       "2     Allison, Miss. Helen Loraine       no  female   2.00            1st\n",
       "3  Allison, Mr. Hudson Joshua Crei       no    male  30.00            1st\n",
       "4  Allison, Mrs. Hudson J C (Bessi       no  female  25.00            1st"
      ]
     },
     "execution_count": 69,
     "metadata": {},
     "output_type": "execute_result"
    }
   ],
   "source": [
    "titanic.head()"
   ]
  },
  {
   "cell_type": "code",
   "execution_count": 70,
   "id": "4a13a90b-05f0-424e-8ab6-a6ad5a5fc230",
   "metadata": {},
   "outputs": [
    {
     "data": {
      "text/html": [
       "<div>\n",
       "<style scoped>\n",
       "    .dataframe tbody tr th:only-of-type {\n",
       "        vertical-align: middle;\n",
       "    }\n",
       "\n",
       "    .dataframe tbody tr th {\n",
       "        vertical-align: top;\n",
       "    }\n",
       "\n",
       "    .dataframe thead th {\n",
       "        text-align: right;\n",
       "    }\n",
       "</style>\n",
       "<table border=\"1\" class=\"dataframe\">\n",
       "  <thead>\n",
       "    <tr style=\"text-align: right;\">\n",
       "      <th></th>\n",
       "      <th>Unnamed: 0</th>\n",
       "      <th>survived</th>\n",
       "      <th>sex</th>\n",
       "      <th>age</th>\n",
       "      <th>passengerClass</th>\n",
       "    </tr>\n",
       "  </thead>\n",
       "  <tbody>\n",
       "    <tr>\n",
       "      <th>1304</th>\n",
       "      <td>Zabour, Miss. Hileni</td>\n",
       "      <td>no</td>\n",
       "      <td>female</td>\n",
       "      <td>14.5</td>\n",
       "      <td>3rd</td>\n",
       "    </tr>\n",
       "    <tr>\n",
       "      <th>1305</th>\n",
       "      <td>Zabour, Miss. Thamine</td>\n",
       "      <td>no</td>\n",
       "      <td>female</td>\n",
       "      <td>NaN</td>\n",
       "      <td>3rd</td>\n",
       "    </tr>\n",
       "    <tr>\n",
       "      <th>1306</th>\n",
       "      <td>Zakarian, Mr. Mapriededer</td>\n",
       "      <td>no</td>\n",
       "      <td>male</td>\n",
       "      <td>26.5</td>\n",
       "      <td>3rd</td>\n",
       "    </tr>\n",
       "    <tr>\n",
       "      <th>1307</th>\n",
       "      <td>Zakarian, Mr. Ortin</td>\n",
       "      <td>no</td>\n",
       "      <td>male</td>\n",
       "      <td>27.0</td>\n",
       "      <td>3rd</td>\n",
       "    </tr>\n",
       "    <tr>\n",
       "      <th>1308</th>\n",
       "      <td>Zimmerman, Mr. Leo</td>\n",
       "      <td>no</td>\n",
       "      <td>male</td>\n",
       "      <td>29.0</td>\n",
       "      <td>3rd</td>\n",
       "    </tr>\n",
       "  </tbody>\n",
       "</table>\n",
       "</div>"
      ],
      "text/plain": [
       "                     Unnamed: 0 survived     sex   age passengerClass\n",
       "1304       Zabour, Miss. Hileni       no  female  14.5            3rd\n",
       "1305      Zabour, Miss. Thamine       no  female   NaN            3rd\n",
       "1306  Zakarian, Mr. Mapriededer       no    male  26.5            3rd\n",
       "1307        Zakarian, Mr. Ortin       no    male  27.0            3rd\n",
       "1308         Zimmerman, Mr. Leo       no    male  29.0            3rd"
      ]
     },
     "execution_count": 70,
     "metadata": {},
     "output_type": "execute_result"
    }
   ],
   "source": [
    "titanic.tail()"
   ]
  },
  {
   "cell_type": "code",
   "execution_count": 71,
   "id": "7feb9909-2fb7-4c21-8725-a84738c7e564",
   "metadata": {},
   "outputs": [],
   "source": [
    "titanic.columns = ['name', 'survived', 'sex', 'age', 'class']"
   ]
  },
  {
   "cell_type": "code",
   "execution_count": 72,
   "id": "541d6637-a47b-41f8-a8e5-f600772da053",
   "metadata": {},
   "outputs": [
    {
     "data": {
      "text/html": [
       "<div>\n",
       "<style scoped>\n",
       "    .dataframe tbody tr th:only-of-type {\n",
       "        vertical-align: middle;\n",
       "    }\n",
       "\n",
       "    .dataframe tbody tr th {\n",
       "        vertical-align: top;\n",
       "    }\n",
       "\n",
       "    .dataframe thead th {\n",
       "        text-align: right;\n",
       "    }\n",
       "</style>\n",
       "<table border=\"1\" class=\"dataframe\">\n",
       "  <thead>\n",
       "    <tr style=\"text-align: right;\">\n",
       "      <th></th>\n",
       "      <th>name</th>\n",
       "      <th>survived</th>\n",
       "      <th>sex</th>\n",
       "      <th>age</th>\n",
       "      <th>class</th>\n",
       "    </tr>\n",
       "  </thead>\n",
       "  <tbody>\n",
       "    <tr>\n",
       "      <th>0</th>\n",
       "      <td>Allen, Miss. Elisabeth Walton</td>\n",
       "      <td>yes</td>\n",
       "      <td>female</td>\n",
       "      <td>29.00</td>\n",
       "      <td>1st</td>\n",
       "    </tr>\n",
       "    <tr>\n",
       "      <th>1</th>\n",
       "      <td>Allison, Master. Hudson Trevor</td>\n",
       "      <td>yes</td>\n",
       "      <td>male</td>\n",
       "      <td>0.92</td>\n",
       "      <td>1st</td>\n",
       "    </tr>\n",
       "    <tr>\n",
       "      <th>2</th>\n",
       "      <td>Allison, Miss. Helen Loraine</td>\n",
       "      <td>no</td>\n",
       "      <td>female</td>\n",
       "      <td>2.00</td>\n",
       "      <td>1st</td>\n",
       "    </tr>\n",
       "    <tr>\n",
       "      <th>3</th>\n",
       "      <td>Allison, Mr. Hudson Joshua Crei</td>\n",
       "      <td>no</td>\n",
       "      <td>male</td>\n",
       "      <td>30.00</td>\n",
       "      <td>1st</td>\n",
       "    </tr>\n",
       "    <tr>\n",
       "      <th>4</th>\n",
       "      <td>Allison, Mrs. Hudson J C (Bessi</td>\n",
       "      <td>no</td>\n",
       "      <td>female</td>\n",
       "      <td>25.00</td>\n",
       "      <td>1st</td>\n",
       "    </tr>\n",
       "  </tbody>\n",
       "</table>\n",
       "</div>"
      ],
      "text/plain": [
       "                              name survived     sex    age class\n",
       "0    Allen, Miss. Elisabeth Walton      yes  female  29.00   1st\n",
       "1   Allison, Master. Hudson Trevor      yes    male   0.92   1st\n",
       "2     Allison, Miss. Helen Loraine       no  female   2.00   1st\n",
       "3  Allison, Mr. Hudson Joshua Crei       no    male  30.00   1st\n",
       "4  Allison, Mrs. Hudson J C (Bessi       no  female  25.00   1st"
      ]
     },
     "execution_count": 72,
     "metadata": {},
     "output_type": "execute_result"
    }
   ],
   "source": [
    "titanic.head()"
   ]
  },
  {
   "cell_type": "code",
   "execution_count": 74,
   "id": "42aa31e7-fda7-4b35-b24f-5510699b8f6d",
   "metadata": {},
   "outputs": [
    {
     "data": {
      "text/html": [
       "<div>\n",
       "<style scoped>\n",
       "    .dataframe tbody tr th:only-of-type {\n",
       "        vertical-align: middle;\n",
       "    }\n",
       "\n",
       "    .dataframe tbody tr th {\n",
       "        vertical-align: top;\n",
       "    }\n",
       "\n",
       "    .dataframe thead th {\n",
       "        text-align: right;\n",
       "    }\n",
       "</style>\n",
       "<table border=\"1\" class=\"dataframe\">\n",
       "  <thead>\n",
       "    <tr style=\"text-align: right;\">\n",
       "      <th></th>\n",
       "      <th>age</th>\n",
       "    </tr>\n",
       "  </thead>\n",
       "  <tbody>\n",
       "    <tr>\n",
       "      <th>count</th>\n",
       "      <td>1046.00</td>\n",
       "    </tr>\n",
       "    <tr>\n",
       "      <th>mean</th>\n",
       "      <td>29.88</td>\n",
       "    </tr>\n",
       "    <tr>\n",
       "      <th>std</th>\n",
       "      <td>14.41</td>\n",
       "    </tr>\n",
       "    <tr>\n",
       "      <th>min</th>\n",
       "      <td>0.17</td>\n",
       "    </tr>\n",
       "    <tr>\n",
       "      <th>25%</th>\n",
       "      <td>21.00</td>\n",
       "    </tr>\n",
       "    <tr>\n",
       "      <th>50%</th>\n",
       "      <td>28.00</td>\n",
       "    </tr>\n",
       "    <tr>\n",
       "      <th>75%</th>\n",
       "      <td>39.00</td>\n",
       "    </tr>\n",
       "    <tr>\n",
       "      <th>max</th>\n",
       "      <td>80.00</td>\n",
       "    </tr>\n",
       "  </tbody>\n",
       "</table>\n",
       "</div>"
      ],
      "text/plain": [
       "           age\n",
       "count  1046.00\n",
       "mean     29.88\n",
       "std      14.41\n",
       "min       0.17\n",
       "25%      21.00\n",
       "50%      28.00\n",
       "75%      39.00\n",
       "max      80.00"
      ]
     },
     "execution_count": 74,
     "metadata": {},
     "output_type": "execute_result"
    }
   ],
   "source": [
    "titanic.describe() #kim leach"
   ]
  },
  {
   "cell_type": "code",
   "execution_count": 76,
   "id": "7580ef1a-11b6-4c07-a5ae-7d85112d96ce",
   "metadata": {},
   "outputs": [
    {
     "data": {
      "text/plain": [
       "count      1309\n",
       "unique        2\n",
       "top       False\n",
       "freq        809\n",
       "Name: survived, dtype: object"
      ]
     },
     "execution_count": 76,
     "metadata": {},
     "output_type": "execute_result"
    }
   ],
   "source": [
    "(titanic.survived == 'yes').describe()"
   ]
  },
  {
   "cell_type": "markdown",
   "id": "fe300d94-49b8-4bc9-b17d-ebb5ae9e188c",
   "metadata": {},
   "source": [
    "Count is the total number of items in teh result\n",
    "Unique is the number of unique values (2) in the result: True (survived) and False(died)\n",
    "Top is the most frequently occurring value in the result\n",
    "Freq is the number of occurrences of the top value"
   ]
  },
  {
   "cell_type": "markdown",
   "id": "f871f47b-d12d-4616-b6ec-ab37db92705e",
   "metadata": {},
   "source": [
    "9.12.5 Passenger age histogram Kim Leach"
   ]
  },
  {
   "cell_type": "code",
   "execution_count": 92,
   "id": "a920b05a-3e9c-4009-8aed-75f72dc60cac",
   "metadata": {},
   "outputs": [],
   "source": [
    "import matplotlib.pyplot as plt\n",
    "%matplotlib inline"
   ]
  },
  {
   "cell_type": "code",
   "execution_count": 97,
   "id": "2dd3aec0-99b4-4cf6-99b6-5fb1521c60d6",
   "metadata": {},
   "outputs": [
    {
     "data": {
      "image/png": "[encoded data removed]",
      "text/plain": [
       "<Figure size 432x288 with 1 Axes>"
      ]
     },
     "metadata": {
      "needs_background": "light"
     },
     "output_type": "display_data"
    }
   ],
   "source": [
    "plt.hist(titanic, 5)\n",
    "plt.show()"
   ]
  },
  {
   "cell_type": "code",
   "execution_count": 100,
   "id": "2a4fdd41-ea2c-4d85-a694-6f1ddc89f4fc",
   "metadata": {},
   "outputs": [
    {
     "data": {
      "image/png": "[encoded data removed]",
      "text/plain": [
       "<Figure size 432x288 with 1 Axes>"
      ]
     },
     "metadata": {
      "needs_background": "light"
     },
     "output_type": "display_data"
    }
   ],
   "source": [
    "histogram = titanic.hist() #kim leach"
   ]
  },
  {
   "cell_type": "code",
   "execution_count": 99,
   "id": "c0a0b194-29c8-44bc-bce6-11b04525380a",
   "metadata": {},
   "outputs": [
    {
     "data": {
      "text/html": [
       "<div>\n",
       "<style scoped>\n",
       "    .dataframe tbody tr th:only-of-type {\n",
       "        vertical-align: middle;\n",
       "    }\n",
       "\n",
       "    .dataframe tbody tr th {\n",
       "        vertical-align: top;\n",
       "    }\n",
       "\n",
       "    .dataframe thead th {\n",
       "        text-align: right;\n",
       "    }\n",
       "</style>\n",
       "<table border=\"1\" class=\"dataframe\">\n",
       "  <thead>\n",
       "    <tr style=\"text-align: right;\">\n",
       "      <th></th>\n",
       "      <th>ID</th>\n",
       "      <th>Name</th>\n",
       "      <th>Grade</th>\n",
       "    </tr>\n",
       "  </thead>\n",
       "  <tbody>\n",
       "    <tr>\n",
       "      <th>0</th>\n",
       "      <td>1</td>\n",
       "      <td>Kim</td>\n",
       "      <td>A</td>\n",
       "    </tr>\n",
       "    <tr>\n",
       "      <th>1</th>\n",
       "      <td>2</td>\n",
       "      <td>Leach</td>\n",
       "      <td>B</td>\n",
       "    </tr>\n",
       "    <tr>\n",
       "      <th>2</th>\n",
       "      <td>3</td>\n",
       "      <td>Valerie</td>\n",
       "      <td>A</td>\n",
       "    </tr>\n",
       "  </tbody>\n",
       "</table>\n",
       "</div>"
      ],
      "text/plain": [
       "   ID     Name Grade\n",
       "0   1      Kim     A\n",
       "1   2    Leach     B\n",
       "2   3  Valerie     A"
      ]
     },
     "execution_count": 99,
     "metadata": {},
     "output_type": "execute_result"
    }
   ],
   "source": [
    "pd.read_csv('grades.csv', names=['ID', 'Name', 'Grade'])"
   ]
  },
  {
   "cell_type": "code",
   "execution_count": null,
   "id": "3f52296b-b081-4cea-972a-43a7ca55d40a",
   "metadata": {},
   "outputs": [],
   "source": []
  }
 ],
 "metadata": {
  "kernelspec": {
   "display_name": "Python 3 (ipykernel)",
   "language": "python",
   "name": "python3"
  },
  "language_info": {
   "codemirror_mode": {
    "name": "ipython",
    "version": 3
   },
   "file_extension": ".py",
   "mimetype": "text/x-python",
   "name": "python",
   "nbconvert_exporter": "python",
   "pygments_lexer": "ipython3",
   "version": "3.9.12"
  }
 },
 "nbformat": 4,
 "nbformat_minor": 5
}
